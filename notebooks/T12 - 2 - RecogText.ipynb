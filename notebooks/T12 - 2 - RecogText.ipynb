{
 "cells": [
  {
   "cell_type": "markdown",
   "id": "b08693c8",
   "metadata": {},
   "source": [
    "# Dataset MNIST"
   ]
  },
  {
   "cell_type": "code",
   "execution_count": 1,
   "id": "8be4256b",
   "metadata": {},
   "outputs": [],
   "source": [
    "import tensorflow as tf\n",
    "from tensorflow.examples.tutorials.mnist import input_data"
   ]
  },
  {
   "cell_type": "code",
   "execution_count": 2,
   "id": "6edf06a2",
   "metadata": {
    "scrolled": true
   },
   "outputs": [
    {
     "name": "stdout",
     "output_type": "stream",
     "text": [
      "WARNING:tensorflow:From <ipython-input-2-3d8a9d232fa5>:1: read_data_sets (from tensorflow.contrib.learn.python.learn.datasets.mnist) is deprecated and will be removed in a future version.\n",
      "Instructions for updating:\n",
      "Please use alternatives such as official/mnist/dataset.py from tensorflow/models.\n",
      "WARNING:tensorflow:From /opt/anaconda3/envs/tf15/lib/python3.6/site-packages/tensorflow_core/contrib/learn/python/learn/datasets/mnist.py:260: maybe_download (from tensorflow.contrib.learn.python.learn.datasets.base) is deprecated and will be removed in a future version.\n",
      "Instructions for updating:\n",
      "Please write your own downloading logic.\n",
      "WARNING:tensorflow:From /opt/anaconda3/envs/tf15/lib/python3.6/site-packages/tensorflow_core/contrib/learn/python/learn/datasets/mnist.py:262: extract_images (from tensorflow.contrib.learn.python.learn.datasets.mnist) is deprecated and will be removed in a future version.\n",
      "Instructions for updating:\n",
      "Please use tf.data to implement this functionality.\n",
      "Extracting MNIST_data/train-images-idx3-ubyte.gz\n",
      "WARNING:tensorflow:From /opt/anaconda3/envs/tf15/lib/python3.6/site-packages/tensorflow_core/contrib/learn/python/learn/datasets/mnist.py:267: extract_labels (from tensorflow.contrib.learn.python.learn.datasets.mnist) is deprecated and will be removed in a future version.\n",
      "Instructions for updating:\n",
      "Please use tf.data to implement this functionality.\n",
      "Extracting MNIST_data/train-labels-idx1-ubyte.gz\n",
      "WARNING:tensorflow:From /opt/anaconda3/envs/tf15/lib/python3.6/site-packages/tensorflow_core/contrib/learn/python/learn/datasets/mnist.py:110: dense_to_one_hot (from tensorflow.contrib.learn.python.learn.datasets.mnist) is deprecated and will be removed in a future version.\n",
      "Instructions for updating:\n",
      "Please use tf.one_hot on tensors.\n",
      "Extracting MNIST_data/t10k-images-idx3-ubyte.gz\n",
      "Extracting MNIST_data/t10k-labels-idx1-ubyte.gz\n",
      "WARNING:tensorflow:From /opt/anaconda3/envs/tf15/lib/python3.6/site-packages/tensorflow_core/contrib/learn/python/learn/datasets/mnist.py:290: DataSet.__init__ (from tensorflow.contrib.learn.python.learn.datasets.mnist) is deprecated and will be removed in a future version.\n",
      "Instructions for updating:\n",
      "Please use alternatives such as official/mnist/dataset.py from tensorflow/models.\n"
     ]
    }
   ],
   "source": [
    "mnist = input_data.read_data_sets(\"MNIST_data\",one_hot=True)"
   ]
  },
  {
   "cell_type": "code",
   "execution_count": 4,
   "id": "3596f3ab",
   "metadata": {},
   "outputs": [
    {
     "name": "stdout",
     "output_type": "stream",
     "text": [
      "55000 10000\n"
     ]
    }
   ],
   "source": [
    "print(len(mnist.train.images), len(mnist.test.images))"
   ]
  },
  {
   "cell_type": "code",
   "execution_count": 5,
   "id": "a27c8840",
   "metadata": {},
   "outputs": [],
   "source": [
    "im_temp = mnist.train.images[0]"
   ]
  },
  {
   "cell_type": "code",
   "execution_count": 9,
   "id": "d8b47a96",
   "metadata": {},
   "outputs": [],
   "source": [
    "from skimage import io\n",
    "import numpy as np\n",
    "import matplotlib.pyplot as plt"
   ]
  },
  {
   "cell_type": "code",
   "execution_count": 10,
   "id": "de12c64a",
   "metadata": {},
   "outputs": [
    {
     "data": {
      "image/png": "[encoded data removed]",
      "text/plain": [
       "<Figure size 432x288 with 1 Axes>"
      ]
     },
     "metadata": {
      "needs_background": "light"
     },
     "output_type": "display_data"
    }
   ],
   "source": [
    "plt.imshow(np.reshape(im_temp,(28,28)),cmap=\"gray\")\n",
    "plt.show()"
   ]
  },
  {
   "cell_type": "code",
   "execution_count": 8,
   "id": "cf6aa9da",
   "metadata": {},
   "outputs": [
    {
     "data": {
      "text/plain": [
       "array([0., 0., 0., 0., 0., 0., 0., 1., 0., 0.])"
      ]
     },
     "execution_count": 8,
     "metadata": {},
     "output_type": "execute_result"
    }
   ],
   "source": [
    "mnist.train.labels[0]"
   ]
  },
  {
   "cell_type": "markdown",
   "id": "7b88e4f2",
   "metadata": {},
   "source": [
    "# Red Neuronal TF\n",
    "* Imgs de entrenamiento MNIST viven en espacio vectorial dimensión 784(28x28)\n",
    "* DataSet de 55000 filas y 784 cols\n",
    "* Cada entrada del dataset es un número real entre 0 y 1"
   ]
  },
  {
   "cell_type": "code",
   "execution_count": 3,
   "id": "908c1e28",
   "metadata": {},
   "outputs": [],
   "source": [
    "x = tf.placeholder(tf.float32, [None,784])"
   ]
  },
  {
   "cell_type": "code",
   "execution_count": 4,
   "id": "c2a91e84",
   "metadata": {},
   "outputs": [],
   "source": [
    "W = tf.Variable(tf.zeros([784,10]))\n",
    "b = tf.Variable(tf.zeros([10]))"
   ]
  },
  {
   "cell_type": "code",
   "execution_count": 5,
   "id": "31071b66",
   "metadata": {},
   "outputs": [],
   "source": [
    "softmax_args = tf.matmul(x,W)+b\n",
    "y_hat = tf.nn.softmax(softmax_args)"
   ]
  },
  {
   "cell_type": "code",
   "execution_count": 6,
   "id": "4bce71c2",
   "metadata": {},
   "outputs": [],
   "source": [
    "y_ = tf.placeholder(tf.float32,[None,10])"
   ]
  },
  {
   "cell_type": "code",
   "execution_count": 7,
   "id": "2a5c323d",
   "metadata": {},
   "outputs": [],
   "source": [
    "#solo la 2da dimension para tf.reduce_sum\n",
    "cross_entropy = tf.reduce_mean(-tf.reduce_sum(y_*tf.log(y_hat),reduction_indices=[1]))"
   ]
  },
  {
   "cell_type": "code",
   "execution_count": 8,
   "id": "3a422bda",
   "metadata": {},
   "outputs": [],
   "source": [
    "train_step = tf.train.GradientDescentOptimizer(.5).minimize(cross_entropy)"
   ]
  },
  {
   "cell_type": "code",
   "execution_count": 9,
   "id": "262e0ef6",
   "metadata": {},
   "outputs": [],
   "source": [
    "sess = tf.InteractiveSession()"
   ]
  },
  {
   "cell_type": "code",
   "execution_count": 10,
   "id": "2012077f",
   "metadata": {},
   "outputs": [],
   "source": [
    "tf.global_variables_initializer().run()"
   ]
  },
  {
   "cell_type": "code",
   "execution_count": 11,
   "id": "950fbcb6",
   "metadata": {
    "scrolled": true
   },
   "outputs": [
    {
     "name": "stdout",
     "output_type": "stream",
     "text": [
      "Epoch: 0 - crossEntropy : 2.3025853633880615\n",
      "Epoch: 1000 - crossEntropy : 0.3257993459701538\n",
      "Epoch: 2000 - crossEntropy : 0.22904296219348907\n",
      "Epoch: 3000 - crossEntropy : 0.33879852294921875\n",
      "Epoch: 4000 - crossEntropy : 0.15429015457630157\n",
      "Epoch: 5000 - crossEntropy : 0.21368223428726196\n"
     ]
    }
   ],
   "source": [
    "for i in range(5001):\n",
    "    batch_x, batch_y = mnist.train.next_batch(100)\n",
    "    _,cross_entropy_tr = sess.run([train_step,cross_entropy], \n",
    "                                          feed_dict={x:batch_x, y_:batch_y})\n",
    "    if i%1000==0:\n",
    "        print(f\"Epoch: {i} - crossEntropy : {cross_entropy_tr}\")"
   ]
  },
  {
   "cell_type": "markdown",
   "id": "0525d845",
   "metadata": {},
   "source": [
    "# Evaluando la red neuronal"
   ]
  },
  {
   "cell_type": "code",
   "execution_count": 12,
   "id": "c7e8e055",
   "metadata": {},
   "outputs": [],
   "source": [
    "correct_predictions = tf.equal(tf.argmax(y_hat,1),tf.argmax(y_,1))"
   ]
  },
  {
   "cell_type": "code",
   "execution_count": 13,
   "id": "05ac189e",
   "metadata": {},
   "outputs": [],
   "source": [
    "accuracy = tf.reduce_mean(tf.cast(correct_predictions, tf.float32))"
   ]
  },
  {
   "cell_type": "code",
   "execution_count": 15,
   "id": "b9302ea1",
   "metadata": {},
   "outputs": [
    {
     "name": "stdout",
     "output_type": "stream",
     "text": [
      "0.9202\n"
     ]
    }
   ],
   "source": [
    "print(sess.run(accuracy,feed_dict={x:mnist.test.images, y_:mnist.test.labels}))"
   ]
  },
  {
   "cell_type": "code",
   "execution_count": null,
   "id": "b0ca5064",
   "metadata": {},
   "outputs": [],
   "source": []
  }
 ],
 "metadata": {
  "kernelspec": {
   "display_name": "Python 3",
   "language": "python",
   "name": "python3"
  },
  "language_info": {
   "codemirror_mode": {
    "name": "ipython",
    "version": 3
   },
   "file_extension": ".py",
   "mimetype": "text/x-python",
   "name": "python",
   "nbconvert_exporter": "python",
   "pygments_lexer": "ipython3",
   "version": "3.6.5"
  },
  "toc": {
   "base_numbering": 1,
   "nav_menu": {},
   "number_sections": true,
   "sideBar": true,
   "skip_h1_title": false,
   "title_cell": "Table of Contents",
   "title_sidebar": "Contents",
   "toc_cell": false,
   "toc_position": {},
   "toc_section_display": true,
   "toc_window_display": true
  }
 },
 "nbformat": 4,
 "nbformat_minor": 5
}

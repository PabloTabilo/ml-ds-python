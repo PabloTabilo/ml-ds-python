{
 "cells": [
  {
   "cell_type": "markdown",
   "metadata": {},
   "source": [
    "# Modelos de regresión Lineal\n",
    "\n",
    "## Modelo con datos simulados\n",
    "\n",
    "$$ y = \\alpha + \\beta \\cdot x $$\n",
    "\n",
    "- X : 10000 valores distribuidos $ N(\\mu=1.5, \\sigma=2.5) $\n",
    "- $ \\hat{Y} = 5 + 1.9 * x + \\varepsilon $\n",
    "- $ \\varepsilon \\sim N(0, 0.8) $"
   ]
  },
  {
   "cell_type": "markdown",
   "metadata": {},
   "source": [
    "# Librerias"
   ]
  },
  {
   "cell_type": "code",
   "execution_count": 9,
   "metadata": {},
   "outputs": [],
   "source": [
    "import pandas as pd\n",
    "import numpy as np\n",
    "import matplotlib.pyplot as plt\n",
    "%matplotlib inline"
   ]
  },
  {
   "cell_type": "code",
   "execution_count": 32,
   "metadata": {},
   "outputs": [],
   "source": [
    "n_size = 1000"
   ]
  },
  {
   "cell_type": "code",
   "execution_count": 33,
   "metadata": {},
   "outputs": [],
   "source": [
    "x = 1.5 + 2.5 * np.random.randn(n_size)"
   ]
  },
  {
   "cell_type": "code",
   "execution_count": 34,
   "metadata": {},
   "outputs": [],
   "source": [
    "res = 0 + 0.8 * np.random.randn(n_size)"
   ]
  },
  {
   "cell_type": "code",
   "execution_count": 35,
   "metadata": {},
   "outputs": [],
   "source": [
    "y_pred = 5 + 1.9 * x"
   ]
  },
  {
   "cell_type": "code",
   "execution_count": 36,
   "metadata": {},
   "outputs": [],
   "source": [
    "y_act = 5 + 1.9 * x + res"
   ]
  },
  {
   "cell_type": "code",
   "execution_count": 37,
   "metadata": {},
   "outputs": [
    {
     "data": {
      "text/plain": [
       "(1000, 3)"
      ]
     },
     "execution_count": 37,
     "metadata": {},
     "output_type": "execute_result"
    }
   ],
   "source": [
    "data = pd.DataFrame(\n",
    "    {\n",
    "        \"x\" : x.tolist(),\n",
    "        \"y_actual\" : y_act.tolist(),\n",
    "        \"y_pred\" : y_pred.tolist()\n",
    "    }\n",
    ")\n",
    "data.shape"
   ]
  },
  {
   "cell_type": "code",
   "execution_count": 38,
   "metadata": {},
   "outputs": [
    {
     "data": {
      "text/html": [
       "<div>\n",
       "<style scoped>\n",
       "    .dataframe tbody tr th:only-of-type {\n",
       "        vertical-align: middle;\n",
       "    }\n",
       "\n",
       "    .dataframe tbody tr th {\n",
       "        vertical-align: top;\n",
       "    }\n",
       "\n",
       "    .dataframe thead th {\n",
       "        text-align: right;\n",
       "    }\n",
       "</style>\n",
       "<table border=\"1\" class=\"dataframe\">\n",
       "  <thead>\n",
       "    <tr style=\"text-align: right;\">\n",
       "      <th></th>\n",
       "      <th>x</th>\n",
       "      <th>y_actual</th>\n",
       "      <th>y_pred</th>\n",
       "    </tr>\n",
       "  </thead>\n",
       "  <tbody>\n",
       "    <tr>\n",
       "      <th>0</th>\n",
       "      <td>3.007393</td>\n",
       "      <td>11.893733</td>\n",
       "      <td>10.714047</td>\n",
       "    </tr>\n",
       "    <tr>\n",
       "      <th>1</th>\n",
       "      <td>3.029590</td>\n",
       "      <td>11.715802</td>\n",
       "      <td>10.756220</td>\n",
       "    </tr>\n",
       "    <tr>\n",
       "      <th>2</th>\n",
       "      <td>4.657821</td>\n",
       "      <td>14.796550</td>\n",
       "      <td>13.849861</td>\n",
       "    </tr>\n",
       "    <tr>\n",
       "      <th>3</th>\n",
       "      <td>-0.361386</td>\n",
       "      <td>4.671897</td>\n",
       "      <td>4.313368</td>\n",
       "    </tr>\n",
       "    <tr>\n",
       "      <th>4</th>\n",
       "      <td>1.036853</td>\n",
       "      <td>8.243470</td>\n",
       "      <td>6.970021</td>\n",
       "    </tr>\n",
       "  </tbody>\n",
       "</table>\n",
       "</div>"
      ],
      "text/plain": [
       "          x   y_actual     y_pred\n",
       "0  3.007393  11.893733  10.714047\n",
       "1  3.029590  11.715802  10.756220\n",
       "2  4.657821  14.796550  13.849861\n",
       "3 -0.361386   4.671897   4.313368\n",
       "4  1.036853   8.243470   6.970021"
      ]
     },
     "execution_count": 38,
     "metadata": {},
     "output_type": "execute_result"
    }
   ],
   "source": [
    "data.head()"
   ]
  },
  {
   "cell_type": "code",
   "execution_count": 39,
   "metadata": {},
   "outputs": [],
   "source": [
    "y_mean = [np.mean(y_act) for i in range(1, len(x.tolist())+1)]"
   ]
  },
  {
   "cell_type": "code",
   "execution_count": 40,
   "metadata": {},
   "outputs": [
    {
     "data": {
      "image/png": "[encoded data removed]",
      "text/plain": [
       "<Figure size 432x288 with 1 Axes>"
      ]
     },
     "metadata": {
      "needs_background": "light"
     },
     "output_type": "display_data"
    }
   ],
   "source": [
    "plt.plot(x, y_pred)\n",
    "plt.plot(x, y_act, \"ro\")\n",
    "plt.plot(x, y_mean, \"g\")\n",
    "plt.title(\"Valor actual vs Prediction\")\n",
    "plt.show()"
   ]
  },
  {
   "cell_type": "markdown",
   "metadata": {},
   "source": [
    "# Calculando desviaciones\n",
    "\n",
    "- SST : Suma de los cuadrados totales\n",
    "$$ SST = \\sum(y_i - \\overline{y}) $$\n",
    "\n",
    "- SSR : Suma de los cuadrados de la regresión\n",
    "$$ SSR = \\sum(\\widehat{y}_i - \\overline{y}) $$\n",
    "\n",
    "- SSD: Suma del cuadrado de las diferencias: \n",
    "$$ SSD = \\sum(y_i - \\widehat{y}_i) $$\n"
   ]
  },
  {
   "cell_type": "code",
   "execution_count": 41,
   "metadata": {},
   "outputs": [
    {
     "data": {
      "text/html": [
       "<div>\n",
       "<style scoped>\n",
       "    .dataframe tbody tr th:only-of-type {\n",
       "        vertical-align: middle;\n",
       "    }\n",
       "\n",
       "    .dataframe tbody tr th {\n",
       "        vertical-align: top;\n",
       "    }\n",
       "\n",
       "    .dataframe thead th {\n",
       "        text-align: right;\n",
       "    }\n",
       "</style>\n",
       "<table border=\"1\" class=\"dataframe\">\n",
       "  <thead>\n",
       "    <tr style=\"text-align: right;\">\n",
       "      <th></th>\n",
       "      <th>x</th>\n",
       "      <th>y_actual</th>\n",
       "      <th>y_pred</th>\n",
       "      <th>SSR</th>\n",
       "      <th>SSD</th>\n",
       "      <th>SST</th>\n",
       "    </tr>\n",
       "  </thead>\n",
       "  <tbody>\n",
       "    <tr>\n",
       "      <th>0</th>\n",
       "      <td>3.007393</td>\n",
       "      <td>11.893733</td>\n",
       "      <td>10.714047</td>\n",
       "      <td>7.907536</td>\n",
       "      <td>1.391657</td>\n",
       "      <td>15.933822</td>\n",
       "    </tr>\n",
       "    <tr>\n",
       "      <th>1</th>\n",
       "      <td>3.029590</td>\n",
       "      <td>11.715802</td>\n",
       "      <td>10.756220</td>\n",
       "      <td>8.146499</td>\n",
       "      <td>0.920797</td>\n",
       "      <td>14.544985</td>\n",
       "    </tr>\n",
       "    <tr>\n",
       "      <th>2</th>\n",
       "      <td>4.657821</td>\n",
       "      <td>14.796550</td>\n",
       "      <td>13.849861</td>\n",
       "      <td>35.376889</td>\n",
       "      <td>0.896220</td>\n",
       "      <td>47.534635</td>\n",
       "    </tr>\n",
       "    <tr>\n",
       "      <th>3</th>\n",
       "      <td>-0.361386</td>\n",
       "      <td>4.671897</td>\n",
       "      <td>4.313368</td>\n",
       "      <td>12.878378</td>\n",
       "      <td>0.128543</td>\n",
       "      <td>10.433653</td>\n",
       "    </tr>\n",
       "    <tr>\n",
       "      <th>4</th>\n",
       "      <td>1.036853</td>\n",
       "      <td>8.243470</td>\n",
       "      <td>6.970021</td>\n",
       "      <td>0.868609</td>\n",
       "      <td>1.621671</td>\n",
       "      <td>0.116592</td>\n",
       "    </tr>\n",
       "  </tbody>\n",
       "</table>\n",
       "</div>"
      ],
      "text/plain": [
       "          x   y_actual     y_pred        SSR       SSD        SST\n",
       "0  3.007393  11.893733  10.714047   7.907536  1.391657  15.933822\n",
       "1  3.029590  11.715802  10.756220   8.146499  0.920797  14.544985\n",
       "2  4.657821  14.796550  13.849861  35.376889  0.896220  47.534635\n",
       "3 -0.361386   4.671897   4.313368  12.878378  0.128543  10.433653\n",
       "4  1.036853   8.243470   6.970021   0.868609  1.621671   0.116592"
      ]
     },
     "execution_count": 41,
     "metadata": {},
     "output_type": "execute_result"
    }
   ],
   "source": [
    "data[\"SSR\"] = (data[\"y_pred\"] - np.mean(data[\"y_actual\"]))**2\n",
    "data[\"SSD\"] = (data[\"y_pred\"] - data[\"y_actual\"])**2\n",
    "data[\"SST\"] = (data[\"y_actual\"] - np.mean(data[\"y_actual\"]))**2\n",
    "data.head()"
   ]
  },
  {
   "cell_type": "code",
   "execution_count": 42,
   "metadata": {},
   "outputs": [
    {
     "name": "stdout",
     "output_type": "stream",
     "text": [
      "23249.141303478973 608.5798800401968 23724.617388517774\n"
     ]
    }
   ],
   "source": [
    "SSR = np.sum(data[\"SSR\"])\n",
    "SSD = np.sum(data[\"SSD\"])\n",
    "SST = np.sum(data[\"SST\"])\n",
    "print(SSR, SSD, SST)"
   ]
  },
  {
   "cell_type": "markdown",
   "metadata": {},
   "source": [
    "* Siempre se calculan SST y SSR, pero el SSD se infiere como error, entonces, lo despejamos de la ecuación"
   ]
  },
  {
   "cell_type": "code",
   "execution_count": 43,
   "metadata": {},
   "outputs": [
    {
     "name": "stdout",
     "output_type": "stream",
     "text": [
      "R2:  0.9799585351682459\n"
     ]
    }
   ],
   "source": [
    "R2 = SSR / SST\n",
    "print(\"R2: \", R2)"
   ]
  },
  {
   "cell_type": "code",
   "execution_count": 44,
   "metadata": {},
   "outputs": [
    {
     "data": {
      "text/plain": [
       "23857.72118351917"
      ]
     },
     "execution_count": 44,
     "metadata": {},
     "output_type": "execute_result"
    }
   ],
   "source": [
    "SSR + SSD"
   ]
  },
  {
   "cell_type": "code",
   "execution_count": 45,
   "metadata": {},
   "outputs": [
    {
     "data": {
      "image/png": "[encoded data removed]",
      "text/plain": [
       "<Figure size 432x288 with 1 Axes>"
      ]
     },
     "metadata": {
      "needs_background": "light"
     },
     "output_type": "display_data"
    }
   ],
   "source": [
    "plt.hist(data[\"y_pred\"] - data[\"y_actual\"])\n",
    "plt.show()"
   ]
  },
  {
   "cell_type": "markdown",
   "metadata": {},
   "source": [
    "# Obteniendo al recta de regresión - Calculos coeficientes"
   ]
  },
  {
   "cell_type": "markdown",
   "metadata": {},
   "source": [
    "* $ y = \\alpha + \\beta * x $\n",
    "* $ \\beta = \\frac{\\sum((x_i - \\overline{x})\\cdot(y_i - \\overline{y}))}{\\sum(x_i - \\overline{x})^2} = \\frac{COV(X, Y)}{VAR(X)} $\n",
    "* $ \\alpha = \\overline{y} - \\beta * \\overline{x} $"
   ]
  },
  {
   "cell_type": "code",
   "execution_count": 46,
   "metadata": {},
   "outputs": [
    {
     "data": {
      "text/plain": [
       "array(['x', 'y_actual', 'y_pred', 'SSR', 'SSD', 'SST'], dtype=object)"
      ]
     },
     "execution_count": 46,
     "metadata": {},
     "output_type": "execute_result"
    }
   ],
   "source": [
    "data.columns.values"
   ]
  },
  {
   "cell_type": "code",
   "execution_count": 49,
   "metadata": {},
   "outputs": [
    {
     "name": "stdout",
     "output_type": "stream",
     "text": [
      "5.049771535469006 1.8947035306719562\n"
     ]
    }
   ],
   "source": [
    "y_mean = np.mean(data[\"y_actual\"])\n",
    "x_mean = np.mean(data[\"x\"])\n",
    "beta_n = (data[\"x\"] - x_mean) * (data[\"y_actual\"] - y_mean)\n",
    "beta_d = (data[\"x\"] - x_mean)**2\n",
    "beta = sum(beta_n) / sum(beta_d)\n",
    "alpha = y_mean - (beta*x_mean)\n",
    "print(alpha, beta)"
   ]
  },
  {
   "cell_type": "code",
   "execution_count": 50,
   "metadata": {},
   "outputs": [
    {
     "data": {
      "text/html": [
       "<div>\n",
       "<style scoped>\n",
       "    .dataframe tbody tr th:only-of-type {\n",
       "        vertical-align: middle;\n",
       "    }\n",
       "\n",
       "    .dataframe tbody tr th {\n",
       "        vertical-align: top;\n",
       "    }\n",
       "\n",
       "    .dataframe thead th {\n",
       "        text-align: right;\n",
       "    }\n",
       "</style>\n",
       "<table border=\"1\" class=\"dataframe\">\n",
       "  <thead>\n",
       "    <tr style=\"text-align: right;\">\n",
       "      <th></th>\n",
       "      <th>x</th>\n",
       "      <th>y_actual</th>\n",
       "      <th>y_pred</th>\n",
       "      <th>SSR</th>\n",
       "      <th>SSD</th>\n",
       "      <th>SST</th>\n",
       "      <th>y_model</th>\n",
       "    </tr>\n",
       "  </thead>\n",
       "  <tbody>\n",
       "    <tr>\n",
       "      <th>0</th>\n",
       "      <td>3.007393</td>\n",
       "      <td>11.893733</td>\n",
       "      <td>10.714047</td>\n",
       "      <td>7.907536</td>\n",
       "      <td>1.391657</td>\n",
       "      <td>15.933822</td>\n",
       "      <td>10.747890</td>\n",
       "    </tr>\n",
       "    <tr>\n",
       "      <th>1</th>\n",
       "      <td>3.029590</td>\n",
       "      <td>11.715802</td>\n",
       "      <td>10.756220</td>\n",
       "      <td>8.146499</td>\n",
       "      <td>0.920797</td>\n",
       "      <td>14.544985</td>\n",
       "      <td>10.789946</td>\n",
       "    </tr>\n",
       "    <tr>\n",
       "      <th>2</th>\n",
       "      <td>4.657821</td>\n",
       "      <td>14.796550</td>\n",
       "      <td>13.849861</td>\n",
       "      <td>35.376889</td>\n",
       "      <td>0.896220</td>\n",
       "      <td>47.534635</td>\n",
       "      <td>13.874962</td>\n",
       "    </tr>\n",
       "    <tr>\n",
       "      <th>3</th>\n",
       "      <td>-0.361386</td>\n",
       "      <td>4.671897</td>\n",
       "      <td>4.313368</td>\n",
       "      <td>12.878378</td>\n",
       "      <td>0.128543</td>\n",
       "      <td>10.433653</td>\n",
       "      <td>4.365053</td>\n",
       "    </tr>\n",
       "    <tr>\n",
       "      <th>4</th>\n",
       "      <td>1.036853</td>\n",
       "      <td>8.243470</td>\n",
       "      <td>6.970021</td>\n",
       "      <td>0.868609</td>\n",
       "      <td>1.621671</td>\n",
       "      <td>0.116592</td>\n",
       "      <td>7.014301</td>\n",
       "    </tr>\n",
       "  </tbody>\n",
       "</table>\n",
       "</div>"
      ],
      "text/plain": [
       "          x   y_actual     y_pred        SSR       SSD        SST    y_model\n",
       "0  3.007393  11.893733  10.714047   7.907536  1.391657  15.933822  10.747890\n",
       "1  3.029590  11.715802  10.756220   8.146499  0.920797  14.544985  10.789946\n",
       "2  4.657821  14.796550  13.849861  35.376889  0.896220  47.534635  13.874962\n",
       "3 -0.361386   4.671897   4.313368  12.878378  0.128543  10.433653   4.365053\n",
       "4  1.036853   8.243470   6.970021   0.868609  1.621671   0.116592   7.014301"
      ]
     },
     "execution_count": 50,
     "metadata": {},
     "output_type": "execute_result"
    }
   ],
   "source": [
    "data[\"y_model\"] = alpha + beta * data[\"x\"]\n",
    "data.head()"
   ]
  },
  {
   "cell_type": "code",
   "execution_count": 51,
   "metadata": {},
   "outputs": [
    {
     "name": "stdout",
     "output_type": "stream",
     "text": [
      "23117.965261908073 606.652126609703 23724.617388517767\n"
     ]
    }
   ],
   "source": [
    "SSR = sum((data[\"y_model\"] - y_mean)**2)\n",
    "SSD = sum((data[\"y_model\"] - data[\"y_actual\"])**2)\n",
    "SST = sum((data[\"y_actual\"] - y_mean)**2)\n",
    "print(SSR, SSD, SST)"
   ]
  },
  {
   "cell_type": "code",
   "execution_count": 52,
   "metadata": {},
   "outputs": [
    {
     "data": {
      "text/plain": [
       "0.9744294242273723"
      ]
     },
     "execution_count": 52,
     "metadata": {},
     "output_type": "execute_result"
    }
   ],
   "source": [
    "R2 = SSR/SST\n",
    "R2"
   ]
  },
  {
   "cell_type": "code",
   "execution_count": 53,
   "metadata": {},
   "outputs": [
    {
     "data": {
      "image/png": "[encoded data removed]",
      "text/plain": [
       "<Figure size 432x288 with 1 Axes>"
      ]
     },
     "metadata": {
      "needs_background": "light"
     },
     "output_type": "display_data"
    }
   ],
   "source": [
    "plt.hist(data[\"y_model\"] - data[\"y_actual\"])\n",
    "plt.show()"
   ]
  },
  {
   "cell_type": "markdown",
   "metadata": {},
   "source": [
    "# El p-valor"
   ]
  },
  {
   "cell_type": "code",
   "execution_count": null,
   "metadata": {},
   "outputs": [],
   "source": []
  },
  {
   "cell_type": "markdown",
   "metadata": {},
   "source": [
    "# El estadístico F\n",
    "\n",
    "En el caso de una regresión lineal múltiple:\n",
    "$$ y_i = \\alpha + \\sum \\beta * x_i $$\n",
    "\n",
    "Para comprobar la existencia de la relación, planteamos el contraste de hipótesis:\n",
    "\n",
    "$$ \\left \\{ \\begin{matrix} H_0 : \\beta_1 = \\beta_2 = ... = \\beta_k \\\\ H_1: \\beta_i \\ne 0 \\end{matrix}\\right. $$\n",
    "\n",
    "El valor del estadístico se obtiene:\n",
    "\n",
    "$$ F = \\frac{\\frac{SSR}{k}}{\\frac{SSD}{n-k-1}} $$\n",
    "\n",
    "$$ p = P(F > F_{k, n - k - 1}) $$"
   ]
  },
  {
   "cell_type": "code",
   "execution_count": null,
   "metadata": {},
   "outputs": [],
   "source": []
  },
  {
   "cell_type": "markdown",
   "metadata": {},
   "source": [
    "# Error estándar de los residuos\n",
    "\n",
    "- En el caso de una regresión lineal simple:\n",
    "$$ RSE = \\sqrt{\\frac{\\sum(y_i - y(x_i))^2}{n-2}} $$\n",
    "- En el caso de una regresión lineal múltiple:\n",
    "$$ RSE = \\sqrt{\\frac{\\sum(y_i - y(x_i))^2}{n-k-1}} $$\n",
    "donde $k$ es igual al número de predictores."
   ]
  },
  {
   "cell_type": "code",
   "execution_count": 57,
   "metadata": {},
   "outputs": [
    {
     "data": {
      "text/plain": [
       "0.7796588114902389"
      ]
     },
     "execution_count": 57,
     "metadata": {},
     "output_type": "execute_result"
    }
   ],
   "source": [
    "RSE = np.sqrt(SSD / (len(data)-2))\n",
    "RSE"
   ]
  },
  {
   "cell_type": "code",
   "execution_count": 58,
   "metadata": {},
   "outputs": [
    {
     "data": {
      "text/plain": [
       "7.9020132669845795"
      ]
     },
     "execution_count": 58,
     "metadata": {},
     "output_type": "execute_result"
    }
   ],
   "source": [
    "np.mean(data[\"y_actual\"])"
   ]
  },
  {
   "cell_type": "code",
   "execution_count": 59,
   "metadata": {},
   "outputs": [
    {
     "data": {
      "text/plain": [
       "0.0986658444054673"
      ]
     },
     "execution_count": 59,
     "metadata": {},
     "output_type": "execute_result"
    }
   ],
   "source": [
    "RSE / np.mean(data[\"y_actual\"])"
   ]
  },
  {
   "cell_type": "code",
   "execution_count": null,
   "metadata": {},
   "outputs": [],
   "source": []
  }
 ],
 "metadata": {
  "kernelspec": {
   "display_name": "Python 3",
   "language": "python",
   "name": "python3"
  },
  "language_info": {
   "codemirror_mode": {
    "name": "ipython",
    "version": 3
   },
   "file_extension": ".py",
   "mimetype": "text/x-python",
   "name": "python",
   "nbconvert_exporter": "python",
   "pygments_lexer": "ipython3",
   "version": "3.8.5"
  },
  "toc": {
   "base_numbering": 1,
   "nav_menu": {},
   "number_sections": true,
   "sideBar": true,
   "skip_h1_title": false,
   "title_cell": "Table of Contents",
   "title_sidebar": "Contents",
   "toc_cell": false,
   "toc_position": {},
   "toc_section_display": true,
   "toc_window_display": true
  }
 },
 "nbformat": 4,
 "nbformat_minor": 4
}

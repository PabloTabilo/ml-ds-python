{
 "cells": [
  {
   "cell_type": "code",
   "execution_count": 1,
   "metadata": {},
   "outputs": [],
   "source": [
    "import pandas as pd"
   ]
  },
  {
   "cell_type": "code",
   "execution_count": 2,
   "metadata": {},
   "outputs": [
    {
     "data": {
      "text/html": [
       "<div>\n",
       "<style scoped>\n",
       "    .dataframe tbody tr th:only-of-type {\n",
       "        vertical-align: middle;\n",
       "    }\n",
       "\n",
       "    .dataframe tbody tr th {\n",
       "        vertical-align: top;\n",
       "    }\n",
       "\n",
       "    .dataframe thead th {\n",
       "        text-align: right;\n",
       "    }\n",
       "</style>\n",
       "<table border=\"1\" class=\"dataframe\">\n",
       "  <thead>\n",
       "    <tr style=\"text-align: right;\">\n",
       "      <th></th>\n",
       "      <th>Gender</th>\n",
       "      <th>Purchase</th>\n",
       "    </tr>\n",
       "  </thead>\n",
       "  <tbody>\n",
       "    <tr>\n",
       "      <th>0</th>\n",
       "      <td>Female</td>\n",
       "      <td>Yes</td>\n",
       "    </tr>\n",
       "    <tr>\n",
       "      <th>1</th>\n",
       "      <td>Female</td>\n",
       "      <td>Yes</td>\n",
       "    </tr>\n",
       "    <tr>\n",
       "      <th>2</th>\n",
       "      <td>Female</td>\n",
       "      <td>No</td>\n",
       "    </tr>\n",
       "    <tr>\n",
       "      <th>3</th>\n",
       "      <td>Male</td>\n",
       "      <td>No</td>\n",
       "    </tr>\n",
       "    <tr>\n",
       "      <th>4</th>\n",
       "      <td>Male</td>\n",
       "      <td>Yes</td>\n",
       "    </tr>\n",
       "  </tbody>\n",
       "</table>\n",
       "</div>"
      ],
      "text/plain": [
       "   Gender Purchase\n",
       "0  Female      Yes\n",
       "1  Female      Yes\n",
       "2  Female       No\n",
       "3    Male       No\n",
       "4    Male      Yes"
      ]
     },
     "execution_count": 2,
     "metadata": {},
     "output_type": "execute_result"
    }
   ],
   "source": [
    "df = pd.read_csv(\"../datasets/gender-purchase/Gender Purchase.csv\")\n",
    "df.head()"
   ]
  },
  {
   "cell_type": "code",
   "execution_count": 3,
   "metadata": {},
   "outputs": [
    {
     "data": {
      "text/html": [
       "<div>\n",
       "<style scoped>\n",
       "    .dataframe tbody tr th:only-of-type {\n",
       "        vertical-align: middle;\n",
       "    }\n",
       "\n",
       "    .dataframe tbody tr th {\n",
       "        vertical-align: top;\n",
       "    }\n",
       "\n",
       "    .dataframe thead th {\n",
       "        text-align: right;\n",
       "    }\n",
       "</style>\n",
       "<table border=\"1\" class=\"dataframe\">\n",
       "  <thead>\n",
       "    <tr style=\"text-align: right;\">\n",
       "      <th>Purchase</th>\n",
       "      <th>No</th>\n",
       "      <th>Yes</th>\n",
       "    </tr>\n",
       "    <tr>\n",
       "      <th>Gender</th>\n",
       "      <th></th>\n",
       "      <th></th>\n",
       "    </tr>\n",
       "  </thead>\n",
       "  <tbody>\n",
       "    <tr>\n",
       "      <th>Female</th>\n",
       "      <td>106</td>\n",
       "      <td>159</td>\n",
       "    </tr>\n",
       "    <tr>\n",
       "      <th>Male</th>\n",
       "      <td>125</td>\n",
       "      <td>121</td>\n",
       "    </tr>\n",
       "  </tbody>\n",
       "</table>\n",
       "</div>"
      ],
      "text/plain": [
       "Purchase   No  Yes\n",
       "Gender            \n",
       "Female    106  159\n",
       "Male      125  121"
      ]
     },
     "execution_count": 3,
     "metadata": {},
     "output_type": "execute_result"
    }
   ],
   "source": [
    "contingency_table = pd.crosstab(df[\"Gender\"], df[\"Purchase\"])\n",
    "contingency_table"
   ]
  },
  {
   "cell_type": "code",
   "execution_count": 4,
   "metadata": {},
   "outputs": [
    {
     "data": {
      "text/plain": [
       "Gender\n",
       "Female    265\n",
       "Male      246\n",
       "dtype: int64"
      ]
     },
     "execution_count": 4,
     "metadata": {},
     "output_type": "execute_result"
    }
   ],
   "source": [
    "contingency_table.sum(axis=1)"
   ]
  },
  {
   "cell_type": "code",
   "execution_count": 5,
   "metadata": {},
   "outputs": [
    {
     "data": {
      "text/plain": [
       "Purchase\n",
       "No     231\n",
       "Yes    280\n",
       "dtype: int64"
      ]
     },
     "execution_count": 5,
     "metadata": {},
     "output_type": "execute_result"
    }
   ],
   "source": [
    "contingency_table.sum(axis=0)"
   ]
  },
  {
   "cell_type": "code",
   "execution_count": 6,
   "metadata": {},
   "outputs": [
    {
     "data": {
      "text/html": [
       "<div>\n",
       "<style scoped>\n",
       "    .dataframe tbody tr th:only-of-type {\n",
       "        vertical-align: middle;\n",
       "    }\n",
       "\n",
       "    .dataframe tbody tr th {\n",
       "        vertical-align: top;\n",
       "    }\n",
       "\n",
       "    .dataframe thead th {\n",
       "        text-align: right;\n",
       "    }\n",
       "</style>\n",
       "<table border=\"1\" class=\"dataframe\">\n",
       "  <thead>\n",
       "    <tr style=\"text-align: right;\">\n",
       "      <th>Purchase</th>\n",
       "      <th>No</th>\n",
       "      <th>Yes</th>\n",
       "    </tr>\n",
       "    <tr>\n",
       "      <th>Gender</th>\n",
       "      <th></th>\n",
       "      <th></th>\n",
       "    </tr>\n",
       "  </thead>\n",
       "  <tbody>\n",
       "    <tr>\n",
       "      <th>Female</th>\n",
       "      <td>0.40000</td>\n",
       "      <td>0.60000</td>\n",
       "    </tr>\n",
       "    <tr>\n",
       "      <th>Male</th>\n",
       "      <td>0.50813</td>\n",
       "      <td>0.49187</td>\n",
       "    </tr>\n",
       "  </tbody>\n",
       "</table>\n",
       "</div>"
      ],
      "text/plain": [
       "Purchase       No      Yes\n",
       "Gender                    \n",
       "Female    0.40000  0.60000\n",
       "Male      0.50813  0.49187"
      ]
     },
     "execution_count": 6,
     "metadata": {},
     "output_type": "execute_result"
    }
   ],
   "source": [
    "contingency_table.astype(\"float\").div(contingency_table.sum(axis=1), axis=0)"
   ]
  },
  {
   "cell_type": "markdown",
   "metadata": {},
   "source": [
    "# La probabilidad condicional"
   ]
  },
  {
   "cell_type": "markdown",
   "metadata": {},
   "source": [
    "1. ¿Cuál es la pbb de que un cliente compré un producto si es un hombre?\n",
    "\n",
    "$$ P(Purchase | Male) = \\frac{Num\\ total\\ de\\ compras\\ hechas\\ por\\ hombres}{Num\\ total\\ de\\ hombres\\ del\\ grupo} = \\frac{Purchase \\cap Male}{Male} $$"
   ]
  },
  {
   "cell_type": "code",
   "execution_count": 7,
   "metadata": {},
   "outputs": [
    {
     "data": {
      "text/plain": [
       "0.491869918699187"
      ]
     },
     "execution_count": 7,
     "metadata": {},
     "output_type": "execute_result"
    }
   ],
   "source": [
    "121 / (121+125)"
   ]
  },
  {
   "cell_type": "markdown",
   "metadata": {},
   "source": [
    "2. ¿Cuál es la pbb de que un cliente compré un producto si es una mujer?\n",
    "$$ P(Purchase | Female) = \\frac{Num\\ total\\ de\\ compras\\ hechas\\ por\\ mujeres}{Num\\ total\\ de\\ mujeres\\ del\\ grupo} = \\frac{Purchase \\cap Female}{Female} $$"
   ]
  },
  {
   "cell_type": "code",
   "execution_count": 8,
   "metadata": {},
   "outputs": [
    {
     "data": {
      "text/plain": [
       "0.6"
      ]
     },
     "execution_count": 8,
     "metadata": {},
     "output_type": "execute_result"
    }
   ],
   "source": [
    "159 / (159 + 106)"
   ]
  },
  {
   "cell_type": "markdown",
   "metadata": {},
   "source": [
    "# Ratio de probabilidades\n",
    "\n",
    "* Cociente entre los casos de éxito sobre los casos de fracasos en el suceso estudiado, y para cada grupo\n",
    "\n",
    "$$ Odds = \\frac{\\pi}{1 - \\pi} $$\n",
    "\n",
    "- Si el ratio es $>1$ es más pbb el éxito que el fracaso.\n",
    "- Si el ratio es $=1$ éxito y fracaso son equiprobables $ p = 0.5 $.\n",
    "- Si el ratio es $<1$, fracaso es más probable que éxito.\n"
   ]
  },
  {
   "cell_type": "code",
   "execution_count": 9,
   "metadata": {},
   "outputs": [],
   "source": [
    "# Pbb de hacer una compra siendo mujer\n",
    "p_f = 159 / (159 + 106)\n",
    "# pbb de hacer una compra siendo hombre\n",
    "p_m = 121 / (121+125)"
   ]
  },
  {
   "cell_type": "code",
   "execution_count": 12,
   "metadata": {},
   "outputs": [
    {
     "name": "stdout",
     "output_type": "stream",
     "text": [
      "Odds female:  1.4999999999999998\n",
      "Odds male:  0.9680000000000002\n"
     ]
    }
   ],
   "source": [
    "# Odds female\n",
    "odds_f = p_f/(1-p_f)\n",
    "print(\"Odds female: \", odds_f)\n",
    "# Odds Male\n",
    "odds_m = p_m/(1-p_m)\n",
    "print(\"Odds male: \", odds_m)"
   ]
  },
  {
   "cell_type": "markdown",
   "metadata": {},
   "source": [
    "$$ Odds_{ratio} = \\frac{odds_{purchase, male}}{odds_{purchase, female}} $$"
   ]
  },
  {
   "cell_type": "code",
   "execution_count": 13,
   "metadata": {},
   "outputs": [
    {
     "name": "stdout",
     "output_type": "stream",
     "text": [
      "0.6453333333333335\n"
     ]
    }
   ],
   "source": [
    "odds_r = odds_m / odds_f\n",
    "print(odds_r)"
   ]
  },
  {
   "cell_type": "markdown",
   "metadata": {},
   "source": [
    "* Hombre son un 48% menos probable que las mujeres en realizar la compra del producto."
   ]
  },
  {
   "cell_type": "code",
   "execution_count": 14,
   "metadata": {},
   "outputs": [
    {
     "data": {
      "text/plain": [
       "1.5495867768595037"
      ]
     },
     "execution_count": 14,
     "metadata": {},
     "output_type": "execute_result"
    }
   ],
   "source": [
    "1/odds_r"
   ]
  },
  {
   "cell_type": "markdown",
   "metadata": {},
   "source": [
    "# La regresión logística desde la regresión lineal\n",
    "\n",
    "$$ y = \\alpha + \\beta \\cdot x $$\n",
    "\n",
    "- Yo quiero modelar una probabilidad que toma valores entre 0 y 1, mientras $ y \\in [-\\infty, \\infty] $, entonces, la manera de solucionar esto es modelar el logaritmo neperiano de los odds de la probabilidad.\n",
    "- Recordemos que los $ \\frac{\\pi}{1 - \\pi} \\in [0, \\infty]$, y si a esto aplicamos logaritmo, entonces, $ \\ln(\\frac{\\pi}{1-\\pi}) \\in [-\\infty, \\infty] $ \n",
    "\n",
    "$$ \\ln(\\frac{\\pi}{1-\\pi}) = \\alpha + \\beta \\cdot x $$\n",
    "\n"
   ]
  },
  {
   "cell_type": "markdown",
   "metadata": {},
   "source": [
    "$$ \\begin{cases} \\frac{\\pi}{1-\\pi} \\in [0,1] \\rightarrow \\ln(\\frac{\\pi}{1-\\pi}) \\in [-\\infty, 0] \\\\ \\frac{\\pi}{1-\\pi} \\in [1,\\infty] \\rightarrow \\ln(\\frac{\\pi}{1-\\pi}) \\in [0,\\infty] \\end{cases} $$"
   ]
  },
  {
   "cell_type": "markdown",
   "metadata": {},
   "source": [
    "- Entonces, nosotros usaremos (podemos hacer los mínimos cuadrados perfectamente):\n",
    "$$ \\ln(\\frac{\\pi}{1-\\pi}) = \\alpha + \\beta \\cdot x $$\n",
    "\n",
    "- Obtengamos las probabilidades:\n",
    "$$ \\frac{\\pi}{1-\\pi} = e^{\\alpha + \\beta \\cdot x} $$\n",
    "$$ \\pi = \\frac{e^{\\alpha + \\beta \\cdot x}}{1+e^{\\alpha + \\beta \\cdot x}} $$\n",
    "- Versión descafeinada (dividir arriba y abajo por $e^{\\alpha + \\beta \\cdot x}$):\n",
    "$$ \\pi = \\frac{1}{1+e^{-(\\alpha + \\beta \\cdot x)}} $$"
   ]
  },
  {
   "cell_type": "markdown",
   "metadata": {},
   "source": [
    "Finalmente, \n",
    "* Si $\\alpha + \\beta \\cdot x$ es muy pequeño (negativo), entonces, $\\pi \\sim 0$\n",
    "* Si $\\alpha + \\beta \\cdot x$ es muy grande (positivo), entonces, $\\pi \\sim 1$\n",
    "* Si $\\alpha + \\beta \\cdot x = 0$, entonces, $\\pi = 0.5$"
   ]
  },
  {
   "cell_type": "markdown",
   "metadata": {},
   "source": [
    "## Regresión logística múltiple\n",
    "\n",
    "$$ \\pi = \\frac{1}{1+e^{-(\\alpha + \\sum \\beta_i \\cdot x_i)}} $$"
   ]
  },
  {
   "cell_type": "code",
   "execution_count": null,
   "metadata": {},
   "outputs": [],
   "source": []
  }
 ],
 "metadata": {
  "kernelspec": {
   "display_name": "Python 3",
   "language": "python",
   "name": "python3"
  },
  "language_info": {
   "codemirror_mode": {
    "name": "ipython",
    "version": 3
   },
   "file_extension": ".py",
   "mimetype": "text/x-python",
   "name": "python",
   "nbconvert_exporter": "python",
   "pygments_lexer": "ipython3",
   "version": "3.8.5"
  },
  "toc": {
   "base_numbering": 1,
   "nav_menu": {},
   "number_sections": true,
   "sideBar": true,
   "skip_h1_title": false,
   "title_cell": "Table of Contents",
   "title_sidebar": "Contents",
   "toc_cell": false,
   "toc_position": {},
   "toc_section_display": true,
   "toc_window_display": false
  }
 },
 "nbformat": 4,
 "nbformat_minor": 4
}

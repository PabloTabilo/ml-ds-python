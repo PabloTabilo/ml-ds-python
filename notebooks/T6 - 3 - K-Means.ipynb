{
 "cells": [
  {
   "cell_type": "markdown",
   "metadata": {},
   "source": [
    "# El método de k-means"
   ]
  },
  {
   "cell_type": "code",
   "execution_count": 1,
   "metadata": {},
   "outputs": [],
   "source": [
    "import numpy as np"
   ]
  },
  {
   "cell_type": "code",
   "execution_count": 2,
   "metadata": {},
   "outputs": [
    {
     "data": {
      "text/plain": [
       "array([[0.58323422, 0.01495712, 0.1111449 ],\n",
       "       [0.5133426 , 0.71319954, 0.99784494],\n",
       "       [0.94828858, 0.44552298, 0.01603566],\n",
       "       [0.78447804, 0.47997124, 0.29880344],\n",
       "       [0.03149648, 0.41292511, 0.14196079],\n",
       "       [0.34719848, 0.06489865, 0.300173  ],\n",
       "       [0.94177055, 0.68808833, 0.02091458],\n",
       "       [0.01941938, 0.51682841, 0.93499586],\n",
       "       [0.17627073, 0.98844615, 0.04234676],\n",
       "       [0.46509907, 0.66860386, 0.15187332],\n",
       "       [0.70092006, 0.76264768, 0.13046739],\n",
       "       [0.57223008, 0.25592009, 0.91297242],\n",
       "       [0.64613443, 0.87124769, 0.44934838],\n",
       "       [0.56873886, 0.87300384, 0.6597172 ],\n",
       "       [0.37514316, 0.10279411, 0.16004914],\n",
       "       [0.54190352, 0.49020511, 0.57859078],\n",
       "       [0.99765848, 0.59058127, 0.32288853],\n",
       "       [0.56019652, 0.83050983, 0.47259319],\n",
       "       [0.69498167, 0.37791666, 0.94163711],\n",
       "       [0.97537402, 0.11607368, 0.18887343],\n",
       "       [0.28136346, 0.27096044, 0.39655586],\n",
       "       [0.31649287, 0.7303639 , 0.73176728],\n",
       "       [0.64736848, 0.97080036, 0.61168376],\n",
       "       [0.95244668, 0.0900045 , 0.55890191],\n",
       "       [0.70114303, 0.43844758, 0.82855941],\n",
       "       [0.17915694, 0.5341855 , 0.20481576],\n",
       "       [0.04758575, 0.01428787, 0.39196908],\n",
       "       [0.52260841, 0.37356532, 0.6427014 ],\n",
       "       [0.77088684, 0.56842395, 0.23254044],\n",
       "       [0.0393095 , 0.58754518, 0.31132375]])"
      ]
     },
     "execution_count": 2,
     "metadata": {},
     "output_type": "execute_result"
    }
   ],
   "source": [
    "data = np.random.random(90).reshape(30,3)\n",
    "data"
   ]
  },
  {
   "cell_type": "code",
   "execution_count": 4,
   "metadata": {},
   "outputs": [
    {
     "data": {
      "text/plain": [
       "array([[0.99765848, 0.59058127, 0.32288853],\n",
       "       [0.77088684, 0.56842395, 0.23254044]])"
      ]
     },
     "execution_count": 4,
     "metadata": {},
     "output_type": "execute_result"
    }
   ],
   "source": [
    "# Seleccion al azar de centroides\n",
    "c1 = np.random.choice(range(len(data)))\n",
    "c2 = np.random.choice(range(len(data)))\n",
    "clust_centers = np.vstack([data[c1],data[c2]])\n",
    "clust_centers"
   ]
  },
  {
   "cell_type": "code",
   "execution_count": 5,
   "metadata": {},
   "outputs": [],
   "source": [
    "from scipy.cluster.vq import vq"
   ]
  },
  {
   "cell_type": "code",
   "execution_count": 6,
   "metadata": {},
   "outputs": [
    {
     "data": {
      "text/plain": [
       "(array([1, 1, 1, 1, 1, 1, 1, 1, 1, 1, 1, 1, 1, 1, 1, 1, 0, 1, 0, 0, 1, 1,\n",
       "        1, 0, 0, 1, 1, 1, 1, 1]),\n",
       " array([0.59688853, 0.82035357, 0.30569649, 0.11135254, 0.76097482,\n",
       "        0.66153134, 0.29716378, 1.02995585, 0.75243644, 0.33173689,\n",
       "        0.23029788, 0.77466822, 0.39277355, 0.562239  , 0.61536915,\n",
       "        0.42225867, 0.        , 0.4131643 , 0.72089479, 0.49357279,\n",
       "        0.59583448, 0.6942088 , 0.56649203, 0.55526888, 0.60561466,\n",
       "        0.59336768, 0.92501284, 0.51753655, 0.        , 0.73605559]))"
      ]
     },
     "execution_count": 6,
     "metadata": {},
     "output_type": "execute_result"
    }
   ],
   "source": [
    "# array1: clase a la que pertenecen del cluster\n",
    "# array2: distancia a la que se encuentra del varicentro del cluster\n",
    "vq(data, clust_centers)"
   ]
  },
  {
   "cell_type": "code",
   "execution_count": 7,
   "metadata": {},
   "outputs": [],
   "source": [
    "from scipy.cluster.vq import kmeans"
   ]
  },
  {
   "cell_type": "code",
   "execution_count": 8,
   "metadata": {},
   "outputs": [
    {
     "data": {
      "text/plain": [
       "(array([[0.85056194, 0.41736342, 0.20895225],\n",
       "        [0.39272302, 0.52793596, 0.51730853]]),\n",
       " 0.4081900574297921)"
      ]
     },
     "execution_count": 8,
     "metadata": {},
     "output_type": "execute_result"
    }
   ],
   "source": [
    "# array1: \n",
    "# ubicación del varicentro 1\n",
    "# ubicación del varicentro 2\n",
    "# ,\n",
    "# constante final Suma cuadrada normalizada\n",
    "kmeans(data, clust_centers)"
   ]
  },
  {
   "cell_type": "code",
   "execution_count": null,
   "metadata": {},
   "outputs": [],
   "source": []
  }
 ],
 "metadata": {
  "kernelspec": {
   "display_name": "Python 3",
   "language": "python",
   "name": "python3"
  },
  "language_info": {
   "codemirror_mode": {
    "name": "ipython",
    "version": 3
   },
   "file_extension": ".py",
   "mimetype": "text/x-python",
   "name": "python",
   "nbconvert_exporter": "python",
   "pygments_lexer": "ipython3",
   "version": "3.8.5"
  },
  "toc": {
   "base_numbering": 1,
   "nav_menu": {},
   "number_sections": true,
   "sideBar": true,
   "skip_h1_title": false,
   "title_cell": "Table of Contents",
   "title_sidebar": "Contents",
   "toc_cell": false,
   "toc_position": {},
   "toc_section_display": true,
   "toc_window_display": true
  }
 },
 "nbformat": 4,
 "nbformat_minor": 4
}
